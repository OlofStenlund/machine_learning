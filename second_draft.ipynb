{
 "cells": [
  {
   "cell_type": "code",
   "execution_count": 12,
   "metadata": {},
   "outputs": [],
   "source": [
    "import pandas as pd\n",
    "import numpy as np\n",
    "import matplotlib as mpl\n",
    "from sklearn.linear_model import LogisticRegressionCV\n",
    "from sklearn.ensemble import RandomForestClassifier\n",
    "from sklearn.datasets import fetch_openml\n",
    "import matplotlib.pyplot as plt"
   ]
  },
  {
   "cell_type": "code",
   "execution_count": 13,
   "metadata": {},
   "outputs": [
    {
     "name": "stderr",
     "output_type": "stream",
     "text": [
      "c:\\Users\\olofs\\anaconda3\\envs\\machine_learning\\lib\\site-packages\\sklearn\\datasets\\_openml.py:932: FutureWarning: The default value of `parser` will change from `'liac-arff'` to `'auto'` in 1.4. You can set `parser='auto'` to silence this warning. Therefore, an `ImportError` will be raised from 1.4 if the dataset is dense and pandas is not installed. Note that the pandas parser may return different data types. See the Notes Section in fetch_openml's API doc for details.\n",
      "  warn(\n"
     ]
    }
   ],
   "source": [
    "mnist = fetch_openml('mnist_784', version=1, as_frame=False)\n",
    "X = mnist.data\n",
    "y = mnist.target.astype(np.uint8)\n",
    "# X_train, X_test, y_train, y_test = X[:6000], X[6000:7000], y[:6000], y[6000:7000]"
   ]
  },
  {
   "cell_type": "code",
   "execution_count": 14,
   "metadata": {},
   "outputs": [],
   "source": [
    "X_train, X_test, y_train, y_test = X[:60000], X[60000:], y[:60000], y[60000:]"
   ]
  },
  {
   "attachments": {},
   "cell_type": "markdown",
   "metadata": {},
   "source": [
    "# 16 min"
   ]
  },
  {
   "cell_type": "code",
   "execution_count": 15,
   "metadata": {},
   "outputs": [],
   "source": [
    "from sklearn.decomposition import PCA\n",
    "\n",
    "pca = PCA(n_components=0.98)\n",
    "X_train_reduced = pca.fit_transform(X_train)\n",
    "X_test_reduced = pca.transform(X_test)"
   ]
  },
  {
   "cell_type": "code",
   "execution_count": 17,
   "metadata": {},
   "outputs": [
    {
     "name": "stdout",
     "output_type": "stream",
     "text": [
      "(60000, 261)\n",
      "(10000, 261)\n"
     ]
    }
   ],
   "source": [
    "print(X_train_reduced.shape)\n",
    "print(X_test_reduced.shape)"
   ]
  },
  {
   "cell_type": "code",
   "execution_count": 18,
   "metadata": {},
   "outputs": [],
   "source": [
    "# from sklearn.svm import SVC\n",
    "# from sklearn.model_selection import GridSearchCV\n",
    "\n",
    "# svc_clf = SVC(verbose=True)\n",
    "# param_grid = {'C': (0.1, 1, 2, 5, 10, 15), 'kernel': [('poly'), ('rbf')], 'gamma': [('auto'), ('scale')]}\n",
    "# grid_svm = GridSearchCV(svc_clf, param_grid, cv=4)\n",
    "# grid_svm.fit(X_train, y_train)\n",
    "\n"
   ]
  },
  {
   "cell_type": "code",
   "execution_count": 19,
   "metadata": {},
   "outputs": [
    {
     "name": "stderr",
     "output_type": "stream",
     "text": [
      "c:\\Users\\olofs\\anaconda3\\envs\\machine_learning\\lib\\site-packages\\sklearn\\linear_model\\_logistic.py:458: ConvergenceWarning: lbfgs failed to converge (status=1):\n",
      "STOP: TOTAL NO. of ITERATIONS REACHED LIMIT.\n",
      "\n",
      "Increase the number of iterations (max_iter) or scale the data as shown in:\n",
      "    https://scikit-learn.org/stable/modules/preprocessing.html\n",
      "Please also refer to the documentation for alternative solver options:\n",
      "    https://scikit-learn.org/stable/modules/linear_model.html#logistic-regression\n",
      "  n_iter_i = _check_optimize_result(\n"
     ]
    }
   ],
   "source": [
    "from sklearn.neighbors import KNeighborsClassifier\n",
    "from sklearn.linear_model import LogisticRegression\n",
    "from sklearn.ensemble import RandomForestClassifier\n",
    "from sklearn.svm import SVC\n",
    "from sklearn.metrics import accuracy_score\n",
    "\n",
    "kn_clf = KNeighborsClassifier()\n",
    "log_reg_clf = LogisticRegression()\n",
    "rf_clf = RandomForestClassifier()\n",
    "svc_clf = SVC()\n",
    "\n",
    "clf_list = []\n",
    "pred_list = []\n",
    "scores_list = []\n",
    "\n",
    "\n",
    "for clf in (kn_clf, log_reg_clf, rf_clf, svc_clf):\n",
    "    clf.fit(X_train_reduced, y_train)\n",
    "    y_pred = clf.predict(X_test_reduced)\n",
    "    pred_list.append(y_pred)\n",
    "    score = accuracy_score(y_test, y_pred)\n",
    "    clf_list.append(clf)\n",
    "    scores_list.append(score)\n",
    "    clf_name = type(clf).__name__\n",
    "    pred_name = ('y_pred_' + clf_name)\n",
    "\n",
    "\n"
   ]
  },
  {
   "cell_type": "code",
   "execution_count": 23,
   "metadata": {},
   "outputs": [
    {
     "name": "stdout",
     "output_type": "stream",
     "text": [
      "KNeighborsClassifier(): 0.9694\n",
      "LogisticRegression(): 0.9217\n",
      "RandomForestClassifier(): 0.946\n",
      "SVC(): 0.9829\n"
     ]
    }
   ],
   "source": [
    "for score, name in enumerate(clf_list):\n",
    "    print(f\"{name}: {scores_list[score]}\")"
   ]
  },
  {
   "cell_type": "code",
   "execution_count": 32,
   "metadata": {},
   "outputs": [],
   "source": [
    "X_train_svc, X_test_svc, y_train_svc, y_test_svc = X_train_reduced[:10000], X_train_reduced[10000:12000], y[:10000], y[10000:12000]"
   ]
  },
  {
   "attachments": {},
   "cell_type": "markdown",
   "metadata": {},
   "source": [
    "# Do gridsearch on SVC with samaller dataset"
   ]
  },
  {
   "cell_type": "code",
   "execution_count": 34,
   "metadata": {},
   "outputs": [
    {
     "data": {
      "text/html": [
       "<div>\n",
       "<style scoped>\n",
       "    .dataframe tbody tr th:only-of-type {\n",
       "        vertical-align: middle;\n",
       "    }\n",
       "\n",
       "    .dataframe tbody tr th {\n",
       "        vertical-align: top;\n",
       "    }\n",
       "\n",
       "    .dataframe thead th {\n",
       "        text-align: right;\n",
       "    }\n",
       "</style>\n",
       "<table border=\"1\" class=\"dataframe\">\n",
       "  <thead>\n",
       "    <tr style=\"text-align: right;\">\n",
       "      <th></th>\n",
       "      <th>mean_fit_time</th>\n",
       "      <th>std_fit_time</th>\n",
       "      <th>mean_score_time</th>\n",
       "      <th>std_score_time</th>\n",
       "      <th>param_C</th>\n",
       "      <th>param_kernel</th>\n",
       "      <th>params</th>\n",
       "      <th>split0_test_score</th>\n",
       "      <th>split1_test_score</th>\n",
       "      <th>split2_test_score</th>\n",
       "      <th>split3_test_score</th>\n",
       "      <th>mean_test_score</th>\n",
       "      <th>std_test_score</th>\n",
       "      <th>rank_test_score</th>\n",
       "    </tr>\n",
       "  </thead>\n",
       "  <tbody>\n",
       "    <tr>\n",
       "      <th>0</th>\n",
       "      <td>7.850578</td>\n",
       "      <td>0.650743</td>\n",
       "      <td>1.354624</td>\n",
       "      <td>0.038310</td>\n",
       "      <td>8</td>\n",
       "      <td>poly</td>\n",
       "      <td>{'C': 8, 'kernel': 'poly'}</td>\n",
       "      <td>0.9628</td>\n",
       "      <td>0.9744</td>\n",
       "      <td>0.9664</td>\n",
       "      <td>0.9600</td>\n",
       "      <td>0.9659</td>\n",
       "      <td>0.005406</td>\n",
       "      <td>4</td>\n",
       "    </tr>\n",
       "    <tr>\n",
       "      <th>1</th>\n",
       "      <td>4.663323</td>\n",
       "      <td>0.199672</td>\n",
       "      <td>2.257110</td>\n",
       "      <td>0.033810</td>\n",
       "      <td>8</td>\n",
       "      <td>rbf</td>\n",
       "      <td>{'C': 8, 'kernel': 'rbf'}</td>\n",
       "      <td>0.9668</td>\n",
       "      <td>0.9764</td>\n",
       "      <td>0.9672</td>\n",
       "      <td>0.9608</td>\n",
       "      <td>0.9678</td>\n",
       "      <td>0.005575</td>\n",
       "      <td>1</td>\n",
       "    </tr>\n",
       "    <tr>\n",
       "      <th>2</th>\n",
       "      <td>8.068840</td>\n",
       "      <td>0.792682</td>\n",
       "      <td>1.623747</td>\n",
       "      <td>0.174566</td>\n",
       "      <td>10</td>\n",
       "      <td>poly</td>\n",
       "      <td>{'C': 10, 'kernel': 'poly'}</td>\n",
       "      <td>0.9628</td>\n",
       "      <td>0.9744</td>\n",
       "      <td>0.9664</td>\n",
       "      <td>0.9600</td>\n",
       "      <td>0.9659</td>\n",
       "      <td>0.005406</td>\n",
       "      <td>4</td>\n",
       "    </tr>\n",
       "    <tr>\n",
       "      <th>3</th>\n",
       "      <td>5.879466</td>\n",
       "      <td>0.769215</td>\n",
       "      <td>2.364998</td>\n",
       "      <td>0.018110</td>\n",
       "      <td>10</td>\n",
       "      <td>rbf</td>\n",
       "      <td>{'C': 10, 'kernel': 'rbf'}</td>\n",
       "      <td>0.9668</td>\n",
       "      <td>0.9764</td>\n",
       "      <td>0.9672</td>\n",
       "      <td>0.9608</td>\n",
       "      <td>0.9678</td>\n",
       "      <td>0.005575</td>\n",
       "      <td>1</td>\n",
       "    </tr>\n",
       "    <tr>\n",
       "      <th>4</th>\n",
       "      <td>8.106938</td>\n",
       "      <td>0.674637</td>\n",
       "      <td>1.637859</td>\n",
       "      <td>0.358984</td>\n",
       "      <td>12</td>\n",
       "      <td>poly</td>\n",
       "      <td>{'C': 12, 'kernel': 'poly'}</td>\n",
       "      <td>0.9628</td>\n",
       "      <td>0.9744</td>\n",
       "      <td>0.9664</td>\n",
       "      <td>0.9600</td>\n",
       "      <td>0.9659</td>\n",
       "      <td>0.005406</td>\n",
       "      <td>4</td>\n",
       "    </tr>\n",
       "    <tr>\n",
       "      <th>5</th>\n",
       "      <td>5.717839</td>\n",
       "      <td>0.896669</td>\n",
       "      <td>2.446302</td>\n",
       "      <td>0.241097</td>\n",
       "      <td>12</td>\n",
       "      <td>rbf</td>\n",
       "      <td>{'C': 12, 'kernel': 'rbf'}</td>\n",
       "      <td>0.9668</td>\n",
       "      <td>0.9764</td>\n",
       "      <td>0.9672</td>\n",
       "      <td>0.9608</td>\n",
       "      <td>0.9678</td>\n",
       "      <td>0.005575</td>\n",
       "      <td>1</td>\n",
       "    </tr>\n",
       "  </tbody>\n",
       "</table>\n",
       "</div>"
      ],
      "text/plain": [
       "   mean_fit_time  std_fit_time  mean_score_time  std_score_time param_C  \\\n",
       "0       7.850578      0.650743         1.354624        0.038310       8   \n",
       "1       4.663323      0.199672         2.257110        0.033810       8   \n",
       "2       8.068840      0.792682         1.623747        0.174566      10   \n",
       "3       5.879466      0.769215         2.364998        0.018110      10   \n",
       "4       8.106938      0.674637         1.637859        0.358984      12   \n",
       "5       5.717839      0.896669         2.446302        0.241097      12   \n",
       "\n",
       "  param_kernel                       params  split0_test_score  \\\n",
       "0         poly   {'C': 8, 'kernel': 'poly'}             0.9628   \n",
       "1          rbf    {'C': 8, 'kernel': 'rbf'}             0.9668   \n",
       "2         poly  {'C': 10, 'kernel': 'poly'}             0.9628   \n",
       "3          rbf   {'C': 10, 'kernel': 'rbf'}             0.9668   \n",
       "4         poly  {'C': 12, 'kernel': 'poly'}             0.9628   \n",
       "5          rbf   {'C': 12, 'kernel': 'rbf'}             0.9668   \n",
       "\n",
       "   split1_test_score  split2_test_score  split3_test_score  mean_test_score  \\\n",
       "0             0.9744             0.9664             0.9600           0.9659   \n",
       "1             0.9764             0.9672             0.9608           0.9678   \n",
       "2             0.9744             0.9664             0.9600           0.9659   \n",
       "3             0.9764             0.9672             0.9608           0.9678   \n",
       "4             0.9744             0.9664             0.9600           0.9659   \n",
       "5             0.9764             0.9672             0.9608           0.9678   \n",
       "\n",
       "   std_test_score  rank_test_score  \n",
       "0        0.005406                4  \n",
       "1        0.005575                1  \n",
       "2        0.005406                4  \n",
       "3        0.005575                1  \n",
       "4        0.005406                4  \n",
       "5        0.005575                1  "
      ]
     },
     "execution_count": 34,
     "metadata": {},
     "output_type": "execute_result"
    }
   ],
   "source": [
    "from sklearn.model_selection import GridSearchCV\n",
    "\n",
    "param_grid_svc = {'C': (8, 10, 12), 'kernel': [('poly'), ('rbf')]}\n",
    "grid_svc = GridSearchCV(svc_clf, param_grid_svc, cv=4)\n",
    "grid_svc.fit(X_train_svc, y_train_svc)\n",
    "result = pd.DataFrame(grid_svc.cv_results_)\n",
    "result\n",
    "\n"
   ]
  },
  {
   "cell_type": "code",
   "execution_count": 39,
   "metadata": {},
   "outputs": [],
   "source": [
    "svc_clf_1 = SVC()\n",
    "svc_clf_grid = SVC(C=8, kernel='rbf')\n",
    "\n",
    "svc_clf_1.fit(X_train_reduced, y_train)\n",
    "svc_clf_grid.fit(X_train_reduced, y_train)\n",
    "\n",
    "y_pred_1 = svc_clf_1.predict(X_test_reduced)\n",
    "y_pred_grid = svc_clf_grid.predict(X_test_reduced)\n",
    "\n",
    "\n",
    "\n",
    "\n"
   ]
  },
  {
   "cell_type": "code",
   "execution_count": 40,
   "metadata": {},
   "outputs": [
    {
     "name": "stdout",
     "output_type": "stream",
     "text": [
      "Accuracy for clf 1: 0.9829\n",
      "Accuracy score for clf grid: 0.9856\n"
     ]
    }
   ],
   "source": [
    "print(f\"Accuracy for clf 1: {accuracy_score(y_test, y_pred_1)}\\nAccuracy score for clf grid: {accuracy_score(y_test, y_pred_grid)}\")"
   ]
  },
  {
   "cell_type": "code",
   "execution_count": 41,
   "metadata": {},
   "outputs": [
    {
     "name": "stdout",
     "output_type": "stream",
     "text": [
      "              precision    recall  f1-score   support\n",
      "\n",
      "           0       0.98      0.99      0.99       980\n",
      "           1       0.99      0.99      0.99      1135\n",
      "           2       0.98      0.98      0.98      1032\n",
      "           3       0.98      0.99      0.98      1010\n",
      "           4       0.98      0.98      0.98       982\n",
      "           5       0.99      0.98      0.98       892\n",
      "           6       0.99      0.99      0.99       958\n",
      "           7       0.98      0.98      0.98      1028\n",
      "           8       0.98      0.98      0.98       974\n",
      "           9       0.98      0.97      0.97      1009\n",
      "\n",
      "    accuracy                           0.98     10000\n",
      "   macro avg       0.98      0.98      0.98     10000\n",
      "weighted avg       0.98      0.98      0.98     10000\n",
      "\n"
     ]
    }
   ],
   "source": [
    "from sklearn.metrics import classification_report\n",
    "\n",
    "print(classification_report(y_test, y_pred_1))"
   ]
  },
  {
   "cell_type": "code",
   "execution_count": 43,
   "metadata": {},
   "outputs": [
    {
     "name": "stdout",
     "output_type": "stream",
     "text": [
      "              precision    recall  f1-score   support\n",
      "\n",
      "           0       0.99      0.99      0.99       980\n",
      "           1       0.99      0.99      0.99      1135\n",
      "           2       0.98      0.98      0.98      1032\n",
      "           3       0.98      0.99      0.98      1010\n",
      "           4       0.98      0.99      0.99       982\n",
      "           5       0.99      0.98      0.98       892\n",
      "           6       0.99      0.99      0.99       958\n",
      "           7       0.98      0.98      0.98      1028\n",
      "           8       0.99      0.98      0.98       974\n",
      "           9       0.98      0.98      0.98      1009\n",
      "\n",
      "    accuracy                           0.99     10000\n",
      "   macro avg       0.99      0.99      0.99     10000\n",
      "weighted avg       0.99      0.99      0.99     10000\n",
      "\n"
     ]
    }
   ],
   "source": [
    "print(classification_report(y_test, y_pred_grid))"
   ]
  },
  {
   "cell_type": "code",
   "execution_count": 44,
   "metadata": {},
   "outputs": [
    {
     "data": {
      "text/plain": [
       "<sklearn.metrics._plot.confusion_matrix.ConfusionMatrixDisplay at 0x1662d750b50>"
      ]
     },
     "execution_count": 44,
     "metadata": {},
     "output_type": "execute_result"
    },
    {
     "data": {
      "image/png": "[encoded data removed]",
      "text/plain": [
       "<Figure size 640x480 with 2 Axes>"
      ]
     },
     "metadata": {},
     "output_type": "display_data"
    }
   ],
   "source": [
    "from sklearn.metrics import ConfusionMatrixDisplay, confusion_matrix\n",
    "\n",
    "ConfusionMatrixDisplay(confusion_matrix(y_test, y_pred_1)).plot()"
   ]
  },
  {
   "cell_type": "code",
   "execution_count": 45,
   "metadata": {},
   "outputs": [
    {
     "data": {
      "text/plain": [
       "<sklearn.metrics._plot.confusion_matrix.ConfusionMatrixDisplay at 0x1662657fee0>"
      ]
     },
     "execution_count": 45,
     "metadata": {},
     "output_type": "execute_result"
    },
    {
     "data": {
      "image/png": "[encoded data removed]",
      "text/plain": [
       "<Figure size 640x480 with 2 Axes>"
      ]
     },
     "metadata": {},
     "output_type": "display_data"
    }
   ],
   "source": [
    "ConfusionMatrixDisplay(confusion_matrix(y_test, y_pred_grid)).plot()"
   ]
  }
 ],
 "metadata": {
  "kernelspec": {
   "display_name": "machine_learning",
   "language": "python",
   "name": "python3"
  },
  "language_info": {
   "codemirror_mode": {
    "name": "ipython",
    "version": 3
   },
   "file_extension": ".py",
   "mimetype": "text/x-python",
   "name": "python",
   "nbconvert_exporter": "python",
   "pygments_lexer": "ipython3",
   "version": "3.9.16"
  },
  "orig_nbformat": 4
 },
 "nbformat": 4,
 "nbformat_minor": 2
}
